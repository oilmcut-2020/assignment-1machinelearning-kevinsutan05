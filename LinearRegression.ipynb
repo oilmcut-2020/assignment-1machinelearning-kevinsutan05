{
 "cells": [
  {
   "cell_type": "code",
   "execution_count": 187,
   "metadata": {},
   "outputs": [
    {
     "name": "stdout",
     "output_type": "stream",
     "text": [
      "    Patient Height (inches)  Patient Weight (pounds)  Catheter Length (cm)\n",
      "0                      42.8                     40.0                  37.0\n",
      "1                      63.5                     93.5                  50.0\n",
      "2                      37.5                     35.5                   NaN\n",
      "3                      39.5                     30.0                  36.0\n",
      "4                      45.5                     52.0                  43.0\n",
      "5                      38.5                     17.0                  28.0\n",
      "6                      43.0                     38.5                  37.0\n",
      "7                      22.5                      8.5                  20.0\n",
      "8                      37.0                     33.0                  34.0\n",
      "9                      23.5                      9.5                  30.0\n",
      "10                     33.0                     21.0                  38.0\n",
      "11                     58.0                     79.0                  47.0\n"
     ]
    }
   ],
   "source": [
    "import pandas as pd\n",
    "import numpy as np\n",
    "dataset = pd.read_csv('Catheter.csv')\n",
    "dataset.head()\n",
    "print(dataset)"
   ]
  },
  {
   "cell_type": "code",
   "execution_count": 188,
   "metadata": {},
   "outputs": [
    {
     "name": "stdout",
     "output_type": "stream",
     "text": [
      "[[42.8]\n",
      " [63.5]\n",
      " [37.5]\n",
      " [39.5]\n",
      " [45.5]\n",
      " [38.5]\n",
      " [43. ]\n",
      " [22.5]\n",
      " [37. ]\n",
      " [23.5]\n",
      " [33. ]\n",
      " [58. ]]\n"
     ]
    }
   ],
   "source": [
    "X = dataset.iloc[:, :1].values \n",
    "print(X)"
   ]
  },
  {
   "cell_type": "code",
   "execution_count": 189,
   "metadata": {},
   "outputs": [
    {
     "name": "stdout",
     "output_type": "stream",
     "text": [
      "[[37.]\n",
      " [50.]\n",
      " [nan]\n",
      " [36.]\n",
      " [43.]\n",
      " [28.]\n",
      " [37.]\n",
      " [20.]\n",
      " [34.]\n",
      " [30.]\n",
      " [38.]\n",
      " [47.]]\n"
     ]
    }
   ],
   "source": [
    "Y = dataset.iloc[:, 2:3].values\n",
    "print(Y)"
   ]
  },
  {
   "cell_type": "code",
   "execution_count": 190,
   "metadata": {},
   "outputs": [
    {
     "name": "stdout",
     "output_type": "stream",
     "text": [
      "[[37.        ]\n",
      " [50.        ]\n",
      " [36.36363636]\n",
      " [36.        ]\n",
      " [43.        ]\n",
      " [28.        ]\n",
      " [37.        ]\n",
      " [20.        ]\n",
      " [34.        ]\n",
      " [30.        ]\n",
      " [38.        ]\n",
      " [47.        ]]\n"
     ]
    }
   ],
   "source": [
    "from sklearn.impute import SimpleImputer \n",
    "imputer = SimpleImputer(missing_values=np.nan, strategy='mean') \n",
    "imputer = imputer.fit(Y)\n",
    "Y = imputer.transform(Y)\n",
    "print(Y)"
   ]
  },
  {
   "cell_type": "code",
   "execution_count": 191,
   "metadata": {},
   "outputs": [
    {
     "name": "stdout",
     "output_type": "stream",
     "text": [
      "[[37.5]\n",
      " [37. ]\n",
      " [63.5]\n",
      " [22.5]\n",
      " [23.5]\n",
      " [39.5]\n",
      " [42.8]\n",
      " [38.5]]\n",
      "[[36.36363636]\n",
      " [34.        ]\n",
      " [50.        ]\n",
      " [20.        ]\n",
      " [30.        ]\n",
      " [36.        ]\n",
      " [37.        ]\n",
      " [28.        ]]\n"
     ]
    }
   ],
   "source": [
    "from sklearn.model_selection import train_test_split\n",
    "X_train, X_test, Y_train, Y_test = train_test_split(X, Y, test_size=0.3, random_state=0)\n",
    "print(X_train)\n",
    "print(Y_train)"
   ]
  },
  {
   "cell_type": "code",
   "execution_count": 192,
   "metadata": {},
   "outputs": [
    {
     "name": "stdout",
     "output_type": "stream",
     "text": [
      "[[43. ]\n",
      " [58. ]\n",
      " [45.5]\n",
      " [33. ]]\n",
      "[[37.]\n",
      " [47.]\n",
      " [43.]\n",
      " [38.]]\n"
     ]
    }
   ],
   "source": [
    "print(X_test)\n",
    "print(Y_test)"
   ]
  },
  {
   "cell_type": "code",
   "execution_count": 193,
   "metadata": {},
   "outputs": [
    {
     "data": {
      "text/plain": [
       "0.8229105298716708"
      ]
     },
     "execution_count": 193,
     "metadata": {},
     "output_type": "execute_result"
    }
   ],
   "source": [
    "from sklearn.linear_model import LinearRegression\n",
    "reg = LinearRegression().fit(X_train, Y_train)\n",
    "reg.score(X_train, Y_train)"
   ]
  },
  {
   "cell_type": "code",
   "execution_count": 196,
   "metadata": {},
   "outputs": [
    {
     "name": "stdout",
     "output_type": "stream",
     "text": [
      "[[36.82301831]\n",
      " [49.60665023]\n",
      " [33.54991449]\n",
      " [34.78504801]\n",
      " [38.49044856]\n",
      " [34.16748125]\n",
      " [36.94653166]\n",
      " [24.2864131 ]\n",
      " [33.24113111]\n",
      " [24.90397986]\n",
      " [30.77086407]\n",
      " [46.21003305]]\n"
     ]
    }
   ],
   "source": [
    "prediction = reg.predict(X)\n",
    "print(prediction)"
   ]
  },
  {
   "cell_type": "code",
   "execution_count": 198,
   "metadata": {},
   "outputs": [
    {
     "data": {
      "image/png": "[encoded data removed]",
      "text/plain": [
       "<Figure size 432x288 with 1 Axes>"
      ]
     },
     "metadata": {
      "needs_background": "light"
     },
     "output_type": "display_data"
    }
   ],
   "source": [
    "import matplotlib.pyplot as plt\n",
    "plt.scatter(X, Y, label = \"Actual\", color=\"red\", marker= \"*\", s=50)\n",
    "plt.plot(X, prediction, label = \"Predict\", color='blue', linewidth=3)\n",
    "plt.xlabel('Patient Heigh', fontsize=10, fontweight='bold') \n",
    "plt.ylabel('Catheter Length', fontsize=10, fontweight='bold') \n",
    "plt.title('Simple Linear Regression',fontsize=15, fontweight='bold') \n",
    "plt.legend() \n",
    "plt.show() "
   ]
  },
  {
   "cell_type": "code",
   "execution_count": null,
   "metadata": {},
   "outputs": [],
   "source": []
  }
 ],
 "metadata": {
  "kernelspec": {
   "display_name": "Python 3",
   "language": "python",
   "name": "python3"
  },
  "language_info": {
   "codemirror_mode": {
    "name": "ipython",
    "version": 3
   },
   "file_extension": ".py",
   "mimetype": "text/x-python",
   "name": "python",
   "nbconvert_exporter": "python",
   "pygments_lexer": "ipython3",
   "version": "3.7.4"
  }
 },
 "nbformat": 4,
 "nbformat_minor": 2
}
